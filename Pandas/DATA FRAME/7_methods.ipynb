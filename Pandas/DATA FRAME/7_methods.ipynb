{
 "cells": [
  {
   "cell_type": "code",
   "execution_count": 40,
   "id": "26d8b36f",
   "metadata": {},
   "outputs": [],
   "source": [
    "                # Methods Of DataFrame : Merging And Joining & Reshaping And Transformation"
   ]
  },
  {
   "cell_type": "code",
   "execution_count": 41,
   "id": "009fe49e",
   "metadata": {},
   "outputs": [],
   "source": [
    "import pandas as pd"
   ]
  },
  {
   "cell_type": "code",
   "execution_count": 42,
   "id": "914465f2",
   "metadata": {},
   "outputs": [],
   "source": [
    "s1 = pd.read_csv(\"../../Data/marine economy.csv\")"
   ]
  },
  {
   "cell_type": "code",
   "execution_count": 43,
   "id": "959d3240",
   "metadata": {},
   "outputs": [
    {
     "name": "stdout",
     "output_type": "stream",
     "text": [
      "      Name  Age  Salary\n",
      "0    Alice   25   50000\n",
      "1      Bob   30   60000\n",
      "2  Charlie   35   75000\n"
     ]
    }
   ],
   "source": [
    "data = {\n",
    "'Name': ['Alice', 'Bob', 'Charlie'],\n",
    "'Age': [25, 30, 35],\n",
    "'Salary': [50000, 60000, 75000]}\n",
    "df = pd.DataFrame(data)\n",
    "print(df)"
   ]
  },
  {
   "cell_type": "code",
   "execution_count": 44,
   "id": "1c706335",
   "metadata": {},
   "outputs": [
    {
     "name": "stdout",
     "output_type": "stream",
     "text": [
      "      Name  Age  Salary\n",
      "0    Alice   25   50000\n",
      "1      Bob   30   60000\n",
      "2  Charlie   35   75000\n",
      "\n",
      "DataFrame with Tax column: \n",
      "      Name  Age  Salary     tax\n",
      "0    Alice   25   50000  6000.0\n",
      "1      Bob   30   60000  7200.0\n",
      "2  Charlie   35   75000  9000.0\n"
     ]
    }
   ],
   "source": [
    "data = {\n",
    "'Name': ['Alice', 'Bob', 'Charlie'],\n",
    "'Age': [25, 30, 35],\n",
    "'Salary': [50000, 60000, 75000]}\n",
    "df = pd.DataFrame(data)\n",
    "print(df)\n",
    "\n",
    "def calculate_tax(Salary):\n",
    "    return Salary * 0.12\n",
    "\n",
    "df['tax']= df['Salary'].apply(calculate_tax)\n",
    "print(\"\\nDataFrame with Tax column: \")\n",
    "print(df)"
   ]
  },
  {
   "cell_type": "code",
   "execution_count": 45,
   "id": "3b18f30d",
   "metadata": {},
   "outputs": [
    {
     "name": "stdout",
     "output_type": "stream",
     "text": [
      "0           NaN\n",
      "1         40.75\n",
      "2         39.65\n",
      "3         40.35\n",
      "4         40.35\n",
      "         ...   \n",
      "709    36916.50\n",
      "710    38481.00\n",
      "711    39373.50\n",
      "712    40230.00\n",
      "713    40033.50\n",
      "Name: data_value, Length: 714, dtype: float64\n"
     ]
    }
   ],
   "source": [
    "s1_rollings = s1['average_data_value']= s1['data_value'].rolling(window=2).mean()\n",
    "print(s1_rollings)"
   ]
  },
  {
   "cell_type": "code",
   "execution_count": 46,
   "id": "8174bde8",
   "metadata": {},
   "outputs": [
    {
     "name": "stdout",
     "output_type": "stream",
     "text": [
      "0    50000.000000\n",
      "1    55000.000000\n",
      "2    61666.666667\n",
      "Name: Salary, dtype: float64\n"
     ]
    }
   ],
   "source": [
    "s1_expanding = df['Expanding_mean_Salary'] = df['Salary'].expanding().mean()\n",
    "print(s1_expanding)"
   ]
  },
  {
   "cell_type": "code",
   "execution_count": 47,
   "id": "fb52cc74",
   "metadata": {},
   "outputs": [
    {
     "name": "stdout",
     "output_type": "stream",
     "text": [
      "      Name  Age  Salary     tax  Expanding_mean_Salary    ewm_salary\n",
      "0    Alice   25   50000  6000.0           50000.000000  50000.000000\n",
      "1      Bob   30   60000  7200.0           55000.000000  57500.000000\n",
      "2  Charlie   35   75000  9000.0           61666.666667  69615.384615\n"
     ]
    }
   ],
   "source": [
    "df['ewm_salary']=df['Salary'].ewm(span=2).mean()\n",
    "print(df)"
   ]
  },
  {
   "cell_type": "code",
   "execution_count": 48,
   "id": "7fa4cd8d",
   "metadata": {},
   "outputs": [
    {
     "name": "stdout",
     "output_type": "stream",
     "text": [
      "   EmployeeID     Name Department  Salary  JoiningYear\n",
      "0         102      Bob    Finance   60000         2015\n",
      "1         103  Charlie         IT   75000         2016\n",
      "2         104    David  Marketing   58000         2017\n"
     ]
    }
   ],
   "source": [
    "df1 = pd.DataFrame({'EmployeeID': [101, 102, 103, 104],\n",
    "                   'Name': ['Alice', 'Bob', 'Charlie', 'David'],\n",
    "                   'Department': ['HR', 'Finance', 'IT', 'Marketing']})\n",
    "\n",
    "df2 = pd.DataFrame({'EmployeeID': [102, 103, 104, 105],\n",
    "                    'Salary': [60000, 75000, 58000, 52000],\n",
    "                    'JoiningYear': [2015, 2016, 2017, 2018]})\n",
    "\n",
    "\n",
    "# Merge DataFrames on 'EmployeeID' withinner join (default)\n",
    "result_inner = pd.merge(df1,df2,on='EmployeeID')\n",
    "print(result_inner)\n",
    "\n",
    "\n"
   ]
  },
  {
   "cell_type": "code",
   "execution_count": 49,
   "id": "82c0dce0",
   "metadata": {},
   "outputs": [
    {
     "name": "stdout",
     "output_type": "stream",
     "text": [
      "   EmployeeID     Name Department   Salary  JoiningYear\n",
      "0         101    Alice         HR      NaN          NaN\n",
      "1         102      Bob    Finance  60000.0       2015.0\n",
      "2         103  Charlie         IT  75000.0       2016.0\n",
      "3         104    David  Marketing  58000.0       2017.0\n"
     ]
    }
   ],
   "source": [
    "# Merge DataFrames on 'EmployeeID' with left join\n",
    "result_left = pd.merge(df1,df2,on='EmployeeID',how='left')\n",
    "print(result_left)"
   ]
  },
  {
   "cell_type": "code",
   "execution_count": 60,
   "id": "3990bc94",
   "metadata": {},
   "outputs": [
    {
     "name": "stdout",
     "output_type": "stream",
     "text": [
      "   EmployeeID     Name Department   Salary  JoiningYear\n",
      "0         101    Alice         HR      NaN          NaN\n",
      "1         102      Bob    Finance  60000.0       2015.0\n",
      "2         103  Charlie         IT  75000.0       2016.0\n",
      "3         104    David  Marketing  58000.0       2017.0\n",
      "4         105      NaN        NaN  52000.0       2018.0\n"
     ]
    }
   ],
   "source": [
    "# Merge DataFrames on 'EmployeeID' with outer join\n",
    "result_outer = pd.merge(df1,df2,on='EmployeeID',how='outer')\n",
    "print(result_outer)"
   ]
  },
  {
   "cell_type": "code",
   "execution_count": 62,
   "id": "a5674166",
   "metadata": {},
   "outputs": [
    {
     "name": "stdout",
     "output_type": "stream",
     "text": [
      "\n",
      "Inner Join (Only matching indices):\n",
      "        Name Department  Salary  JoiningYear\n",
      "102      Bob    Finance   60000         2015\n",
      "103  Charlie         IT   75000         2016\n",
      "104    David  Marketing   58000         2017\n"
     ]
    }
   ],
   "source": [
    "df1 = pd.DataFrame({'Name': ['Alice', 'Bob', 'Charlie', 'David'],\n",
    "                    'Department': ['HR', 'Finance', 'IT', 'Marketing']}, \n",
    "                    index=[101, 102, 103, 104])\n",
    "#print('\\n',df1)\n",
    "df2 = pd.DataFrame({'Salary': [60000, 75000, 58000, 52000],\n",
    "                      'JoiningYear': [2015, 2016, 2017, 2018]}, \n",
    "                      index=[102, 103, 104, 105])\n",
    "#print('\\n',df2)\n",
    "# Join df2 to df1 on their indices with inner join\n",
    "result_inner = df1.join(df2, how='inner')\n",
    "print(\"\\nInner Join (Only matching indices):\")\n",
    "print(result_inner)\n"
   ]
  },
  {
   "cell_type": "code",
   "execution_count": 63,
   "id": "5f25e73d",
   "metadata": {},
   "outputs": [
    {
     "name": "stdout",
     "output_type": "stream",
     "text": [
      "        Name Department   Salary  JoiningYear\n",
      "101    Alice         HR      NaN          NaN\n",
      "102      Bob    Finance  60000.0       2015.0\n",
      "103  Charlie         IT  75000.0       2016.0\n",
      "104    David  Marketing  58000.0       2017.0\n"
     ]
    }
   ],
   "source": [
    "# Join df2 to df1 on their indices with left join\n",
    "result_left = df1.join(df2,how='left')\n",
    "print(result_left)"
   ]
  },
  {
   "cell_type": "code",
   "execution_count": 64,
   "id": "f0f12ab5",
   "metadata": {},
   "outputs": [
    {
     "name": "stdout",
     "output_type": "stream",
     "text": [
      "        Name Department   Salary  JoiningYear\n",
      "101    Alice         HR      NaN          NaN\n",
      "102      Bob    Finance  60000.0       2015.0\n",
      "103  Charlie         IT  75000.0       2016.0\n",
      "104    David  Marketing  58000.0       2017.0\n",
      "105      NaN        NaN  52000.0       2018.0\n"
     ]
    }
   ],
   "source": [
    "# Join df2 to df1 on their indices with outer join\n",
    "result_outer = df1.join(df2,how='outer')\n",
    "print(result_outer)"
   ]
  },
  {
   "cell_type": "code",
   "execution_count": 65,
   "id": "0abe6f55",
   "metadata": {},
   "outputs": [
    {
     "name": "stdout",
     "output_type": "stream",
     "text": [
      "   EmployeeID     Name\n",
      "0         101    Alice\n",
      "1         102      Bob\n",
      "2         103  Charlie\n",
      "0         104    David\n",
      "1         105      Eva\n",
      "0         106    Frank\n",
      "1         107    Grace\n"
     ]
    }
   ],
   "source": [
    "df1 = pd.DataFrame({'EmployeeID': [101, 102, 103],\n",
    "                    'Name': ['Alice', 'Bob', 'Charlie'] })\n",
    "df2 = pd.DataFrame({'EmployeeID': [104, 105],\n",
    "                    'Name': ['David', 'Eva']})\n",
    "df3 = pd.DataFrame({'EmployeeID': [106, 107],\n",
    "                    'Name': ['Frank', 'Grace']})\n",
    "\n",
    "# Concatenate DataFrames along rows (axis=0)\n",
    "result_rows = pd.concat([df1,df2,df3],axis=0)\n",
    "print(result_rows)"
   ]
  },
  {
   "cell_type": "code",
   "execution_count": 66,
   "id": "7bd61143",
   "metadata": {},
   "outputs": [
    {
     "name": "stdout",
     "output_type": "stream",
     "text": [
      "   EmployeeID     Name  EmployeeID   Name  EmployeeID   Name\n",
      "0         101    Alice       104.0  David       106.0  Frank\n",
      "1         102      Bob       105.0    Eva       107.0  Grace\n",
      "2         103  Charlie         NaN    NaN         NaN    NaN\n"
     ]
    }
   ],
   "source": [
    "# Concatenate DataFrames along columns (axis=1)\n",
    "result_rows = pd.concat([df1,df2,df3],axis=1)\n",
    "print(result_rows)"
   ]
  },
  {
   "cell_type": "code",
   "execution_count": 73,
   "id": "865cd467",
   "metadata": {},
   "outputs": [
    {
     "name": "stdout",
     "output_type": "stream",
     "text": [
      "   index  EmployeeID     Name  EmployeeID   Name  EmployeeID   Name Department\n",
      "0      0       101.0    Alice       104.0  David       106.0  Frank         HR\n",
      "1      1       102.0      Bob       105.0    Eva       107.0  Grace    Finance\n",
      "2      2       103.0  Charlie         NaN    NaN         NaN    NaN         IT\n",
      "3      3         NaN      NaN         NaN    NaN         NaN    NaN  Marketing\n",
      "4      4         NaN      NaN         NaN    NaN         NaN    NaN      Sales\n",
      "5      5         NaN      NaN         NaN    NaN         NaN    NaN    Support\n"
     ]
    }
   ],
   "source": [
    "# For this, we need to create DataFrames with the same number of rows\n",
    "df4 = pd.DataFrame({'Department': ['HR', 'Finance', 'IT','Marketing', 'Sales', 'Support']})\n",
    "result_colnum = pd.concat([result_rows,df4],axis=1).reset_index()\n",
    "print(result_colnum)"
   ]
  }
 ],
 "metadata": {
  "kernelspec": {
   "display_name": "venv (3.13.5)",
   "language": "python",
   "name": "python3"
  },
  "language_info": {
   "codemirror_mode": {
    "name": "ipython",
    "version": 3
   },
   "file_extension": ".py",
   "mimetype": "text/x-python",
   "name": "python",
   "nbconvert_exporter": "python",
   "pygments_lexer": "ipython3",
   "version": "3.13.5"
  }
 },
 "nbformat": 4,
 "nbformat_minor": 5
}
