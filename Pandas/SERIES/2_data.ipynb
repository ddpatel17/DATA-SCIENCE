{
 "cells": [
  {
   "cell_type": "code",
   "execution_count": 2,
   "id": "1018fd49",
   "metadata": {},
   "outputs": [],
   "source": [
    "import numpy as np\n",
    "import pandas as pd"
   ]
  },
  {
   "cell_type": "code",
   "execution_count": 3,
   "id": "5b42af85",
   "metadata": {},
   "outputs": [
    {
     "data": {
      "text/html": [
       "<div>\n",
       "<style scoped>\n",
       "    .dataframe tbody tr th:only-of-type {\n",
       "        vertical-align: middle;\n",
       "    }\n",
       "\n",
       "    .dataframe tbody tr th {\n",
       "        vertical-align: top;\n",
       "    }\n",
       "\n",
       "    .dataframe thead th {\n",
       "        text-align: right;\n",
       "    }\n",
       "</style>\n",
       "<table border=\"1\" class=\"dataframe\">\n",
       "  <thead>\n",
       "    <tr style=\"text-align: right;\">\n",
       "      <th></th>\n",
       "      <th>year</th>\n",
       "      <th>category</th>\n",
       "      <th>variable</th>\n",
       "      <th>units</th>\n",
       "      <th>magnitude</th>\n",
       "      <th>source</th>\n",
       "      <th>data_value</th>\n",
       "      <th>flag</th>\n",
       "    </tr>\n",
       "  </thead>\n",
       "  <tbody>\n",
       "    <tr>\n",
       "      <th>0</th>\n",
       "      <td>2007</td>\n",
       "      <td>Fisheries and aquaculture</td>\n",
       "      <td>Cont. to ME Wage and salary earners</td>\n",
       "      <td>Proportion</td>\n",
       "      <td>Actual</td>\n",
       "      <td>LEED</td>\n",
       "      <td>42.1</td>\n",
       "      <td>F</td>\n",
       "    </tr>\n",
       "    <tr>\n",
       "      <th>1</th>\n",
       "      <td>2008</td>\n",
       "      <td>Fisheries and aquaculture</td>\n",
       "      <td>Cont. to ME Wage and salary earners</td>\n",
       "      <td>Proportion</td>\n",
       "      <td>Actual</td>\n",
       "      <td>LEED</td>\n",
       "      <td>39.4</td>\n",
       "      <td>F</td>\n",
       "    </tr>\n",
       "    <tr>\n",
       "      <th>2</th>\n",
       "      <td>2009</td>\n",
       "      <td>Fisheries and aquaculture</td>\n",
       "      <td>Cont. to ME Wage and salary earners</td>\n",
       "      <td>Proportion</td>\n",
       "      <td>Actual</td>\n",
       "      <td>LEED</td>\n",
       "      <td>39.9</td>\n",
       "      <td>R</td>\n",
       "    </tr>\n",
       "    <tr>\n",
       "      <th>3</th>\n",
       "      <td>2010</td>\n",
       "      <td>Fisheries and aquaculture</td>\n",
       "      <td>Cont. to ME Wage and salary earners</td>\n",
       "      <td>Proportion</td>\n",
       "      <td>Actual</td>\n",
       "      <td>LEED</td>\n",
       "      <td>40.8</td>\n",
       "      <td>F</td>\n",
       "    </tr>\n",
       "    <tr>\n",
       "      <th>4</th>\n",
       "      <td>2011</td>\n",
       "      <td>Fisheries and aquaculture</td>\n",
       "      <td>Cont. to ME Wage and salary earners</td>\n",
       "      <td>Proportion</td>\n",
       "      <td>Actual</td>\n",
       "      <td>LEED</td>\n",
       "      <td>39.9</td>\n",
       "      <td>F</td>\n",
       "    </tr>\n",
       "  </tbody>\n",
       "</table>\n",
       "</div>"
      ],
      "text/plain": [
       "   year                   category                             variable  \\\n",
       "0  2007  Fisheries and aquaculture  Cont. to ME Wage and salary earners   \n",
       "1  2008  Fisheries and aquaculture  Cont. to ME Wage and salary earners   \n",
       "2  2009  Fisheries and aquaculture  Cont. to ME Wage and salary earners   \n",
       "3  2010  Fisheries and aquaculture  Cont. to ME Wage and salary earners   \n",
       "4  2011  Fisheries and aquaculture  Cont. to ME Wage and salary earners   \n",
       "\n",
       "        units magnitude source  data_value flag  \n",
       "0  Proportion    Actual   LEED        42.1    F  \n",
       "1  Proportion    Actual   LEED        39.4    F  \n",
       "2  Proportion    Actual   LEED        39.9    R  \n",
       "3  Proportion    Actual   LEED        40.8    F  \n",
       "4  Proportion    Actual   LEED        39.9    F  "
      ]
     },
     "execution_count": 3,
     "metadata": {},
     "output_type": "execute_result"
    }
   ],
   "source": [
    "s1 = pd.read_csv(\"../../Data/marine economy.csv\")\n",
    "s1.head()"
   ]
  },
  {
   "cell_type": "code",
   "execution_count": 4,
   "id": "12fbc8ff",
   "metadata": {},
   "outputs": [
    {
     "name": "stdout",
     "output_type": "stream",
     "text": [
      "   year                   category                             variable  \\\n",
      "0  2007  Fisheries and aquaculture  Cont. to ME Wage and salary earners   \n",
      "1  2008  Fisheries and aquaculture  Cont. to ME Wage and salary earners   \n",
      "2  2009  Fisheries and aquaculture  Cont. to ME Wage and salary earners   \n",
      "3  2010  Fisheries and aquaculture  Cont. to ME Wage and salary earners   \n",
      "4  2011  Fisheries and aquaculture  Cont. to ME Wage and salary earners   \n",
      "\n",
      "        units magnitude source  data_value flag  \n",
      "0  Proportion    Actual   LEED        42.1    F  \n",
      "1  Proportion    Actual   LEED        39.4    F  \n",
      "2  Proportion    Actual   LEED        39.9    R  \n",
      "3  Proportion    Actual   LEED        40.8    F  \n",
      "4  Proportion    Actual   LEED        39.9    F  \n"
     ]
    }
   ],
   "source": [
    "print(s1.head())"
   ]
  },
  {
   "cell_type": "code",
   "execution_count": 5,
   "id": "7458bc27",
   "metadata": {},
   "outputs": [
    {
     "data": {
      "text/plain": [
       "pandas.core.frame.DataFrame"
      ]
     },
     "execution_count": 5,
     "metadata": {},
     "output_type": "execute_result"
    }
   ],
   "source": [
    "type(s1)"
   ]
  },
  {
   "cell_type": "code",
   "execution_count": 6,
   "id": "66d1b8f5",
   "metadata": {},
   "outputs": [],
   "source": [
    "#s2 = pd.read_csv(\"../../Data/marine economy.csv\",usecols=['year'],squeeze=True) # this is now not valid\n",
    "#s2.head()\n",
    "#type(s2)"
   ]
  },
  {
   "cell_type": "code",
   "execution_count": 7,
   "id": "d03665e3",
   "metadata": {},
   "outputs": [],
   "source": [
    "#s2 = pd.read_csv(\"../../Data/marine economy.csv\",usecols=['data_value'],squeeze=True) # this is now not valid\n",
    "#s2.head()\n",
    "#type(s2)"
   ]
  },
  {
   "cell_type": "code",
   "execution_count": 15,
   "id": "d20b9d46",
   "metadata": {},
   "outputs": [
    {
     "name": "stdout",
     "output_type": "stream",
     "text": [
      "0    42.1\n",
      "1    39.4\n",
      "2    39.9\n",
      "3    40.8\n",
      "4    39.9\n",
      "Name: data_value, dtype: float64\n"
     ]
    },
    {
     "data": {
      "text/plain": [
       "pandas.core.series.Series"
      ]
     },
     "execution_count": 15,
     "metadata": {},
     "output_type": "execute_result"
    }
   ],
   "source": [
    "s2 = pd.read_csv(\"../../Data/marine economy.csv\",usecols=[\"data_value\"]).squeeze()\n",
    "print(s2.head())\n",
    "type(s2)"
   ]
  },
  {
   "cell_type": "code",
   "execution_count": 16,
   "id": "644fe772",
   "metadata": {},
   "outputs": [
    {
     "name": "stdout",
     "output_type": "stream",
     "text": [
      "year\n",
      "2007    42.1\n",
      "2008    39.4\n",
      "2009    39.9\n",
      "2010    40.8\n",
      "2011    39.9\n",
      "Name: data_value, dtype: float64\n"
     ]
    },
    {
     "data": {
      "text/plain": [
       "pandas.core.series.Series"
      ]
     },
     "execution_count": 16,
     "metadata": {},
     "output_type": "execute_result"
    }
   ],
   "source": [
    "s3 = pd.read_csv(\"../../Data/marine economy.csv\",usecols=[\"year\",'data_value'],index_col='year').squeeze()\n",
    "print(s3.head())\n",
    "type(s3)"
   ]
  }
 ],
 "metadata": {
  "kernelspec": {
   "display_name": "venv (3.13.5)",
   "language": "python",
   "name": "python3"
  },
  "language_info": {
   "codemirror_mode": {
    "name": "ipython",
    "version": 3
   },
   "file_extension": ".py",
   "mimetype": "text/x-python",
   "name": "python",
   "nbconvert_exporter": "python",
   "pygments_lexer": "ipython3",
   "version": "3.13.5"
  }
 },
 "nbformat": 4,
 "nbformat_minor": 5
}
