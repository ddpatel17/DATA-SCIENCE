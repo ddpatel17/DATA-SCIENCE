{
 "cells": [
  {
   "cell_type": "code",
   "execution_count": 1,
   "id": "51d3cd76",
   "metadata": {},
   "outputs": [],
   "source": [
    "import pandas as pd "
   ]
  },
  {
   "cell_type": "code",
   "execution_count": 7,
   "id": "0c580d14",
   "metadata": {},
   "outputs": [
    {
     "data": {
      "text/html": [
       "<div>\n",
       "<style scoped>\n",
       "    .dataframe tbody tr th:only-of-type {\n",
       "        vertical-align: middle;\n",
       "    }\n",
       "\n",
       "    .dataframe tbody tr th {\n",
       "        vertical-align: top;\n",
       "    }\n",
       "\n",
       "    .dataframe thead th {\n",
       "        text-align: right;\n",
       "    }\n",
       "</style>\n",
       "<table border=\"1\" class=\"dataframe\">\n",
       "  <thead>\n",
       "    <tr style=\"text-align: right;\">\n",
       "      <th></th>\n",
       "      <th>year</th>\n",
       "      <th>category</th>\n",
       "      <th>variable</th>\n",
       "      <th>units</th>\n",
       "      <th>magnitude</th>\n",
       "      <th>source</th>\n",
       "      <th>data_value</th>\n",
       "      <th>flag</th>\n",
       "    </tr>\n",
       "  </thead>\n",
       "  <tbody>\n",
       "    <tr>\n",
       "      <th>0</th>\n",
       "      <td>2007</td>\n",
       "      <td>Fisheries and aquaculture</td>\n",
       "      <td>Cont. to ME Wage and salary earners</td>\n",
       "      <td>Proportion</td>\n",
       "      <td>Actual</td>\n",
       "      <td>LEED</td>\n",
       "      <td>42.1</td>\n",
       "      <td>F</td>\n",
       "    </tr>\n",
       "    <tr>\n",
       "      <th>1</th>\n",
       "      <td>2008</td>\n",
       "      <td>Fisheries and aquaculture</td>\n",
       "      <td>Cont. to ME Wage and salary earners</td>\n",
       "      <td>Proportion</td>\n",
       "      <td>Actual</td>\n",
       "      <td>LEED</td>\n",
       "      <td>39.4</td>\n",
       "      <td>F</td>\n",
       "    </tr>\n",
       "    <tr>\n",
       "      <th>2</th>\n",
       "      <td>2009</td>\n",
       "      <td>Fisheries and aquaculture</td>\n",
       "      <td>Cont. to ME Wage and salary earners</td>\n",
       "      <td>Proportion</td>\n",
       "      <td>Actual</td>\n",
       "      <td>LEED</td>\n",
       "      <td>39.9</td>\n",
       "      <td>R</td>\n",
       "    </tr>\n",
       "    <tr>\n",
       "      <th>3</th>\n",
       "      <td>2010</td>\n",
       "      <td>Fisheries and aquaculture</td>\n",
       "      <td>Cont. to ME Wage and salary earners</td>\n",
       "      <td>Proportion</td>\n",
       "      <td>Actual</td>\n",
       "      <td>LEED</td>\n",
       "      <td>40.8</td>\n",
       "      <td>F</td>\n",
       "    </tr>\n",
       "    <tr>\n",
       "      <th>4</th>\n",
       "      <td>2011</td>\n",
       "      <td>Fisheries and aquaculture</td>\n",
       "      <td>Cont. to ME Wage and salary earners</td>\n",
       "      <td>Proportion</td>\n",
       "      <td>Actual</td>\n",
       "      <td>LEED</td>\n",
       "      <td>39.9</td>\n",
       "      <td>F</td>\n",
       "    </tr>\n",
       "  </tbody>\n",
       "</table>\n",
       "</div>"
      ],
      "text/plain": [
       "   year                   category                             variable  \\\n",
       "0  2007  Fisheries and aquaculture  Cont. to ME Wage and salary earners   \n",
       "1  2008  Fisheries and aquaculture  Cont. to ME Wage and salary earners   \n",
       "2  2009  Fisheries and aquaculture  Cont. to ME Wage and salary earners   \n",
       "3  2010  Fisheries and aquaculture  Cont. to ME Wage and salary earners   \n",
       "4  2011  Fisheries and aquaculture  Cont. to ME Wage and salary earners   \n",
       "\n",
       "        units magnitude source  data_value flag  \n",
       "0  Proportion    Actual   LEED        42.1    F  \n",
       "1  Proportion    Actual   LEED        39.4    F  \n",
       "2  Proportion    Actual   LEED        39.9    R  \n",
       "3  Proportion    Actual   LEED        40.8    F  \n",
       "4  Proportion    Actual   LEED        39.9    F  "
      ]
     },
     "execution_count": 7,
     "metadata": {},
     "output_type": "execute_result"
    }
   ],
   "source": [
    "s1 = pd.read_csv(\"../../Data/marine economy.csv\")\n",
    "s1.head()"
   ]
  },
  {
   "cell_type": "code",
   "execution_count": 3,
   "id": "b89ee8ba",
   "metadata": {},
   "outputs": [
    {
     "data": {
      "text/plain": [
       "pandas.core.frame.DataFrame"
      ]
     },
     "execution_count": 3,
     "metadata": {},
     "output_type": "execute_result"
    }
   ],
   "source": [
    "type(s1)"
   ]
  },
  {
   "cell_type": "code",
   "execution_count": 4,
   "id": "aa0c6084",
   "metadata": {},
   "outputs": [
    {
     "name": "stdout",
     "output_type": "stream",
     "text": [
      "<class 'pandas.core.frame.DataFrame'>\n",
      "RangeIndex: 714 entries, 0 to 713\n",
      "Data columns (total 8 columns):\n",
      " #   Column      Non-Null Count  Dtype  \n",
      "---  ------      --------------  -----  \n",
      " 0   year        714 non-null    int64  \n",
      " 1   category    714 non-null    object \n",
      " 2   variable    714 non-null    object \n",
      " 3   units       714 non-null    object \n",
      " 4   magnitude   714 non-null    object \n",
      " 5   source      714 non-null    object \n",
      " 6   data_value  702 non-null    float64\n",
      " 7   flag        714 non-null    object \n",
      "dtypes: float64(1), int64(1), object(6)\n",
      "memory usage: 44.8+ KB\n"
     ]
    }
   ],
   "source": [
    "s1.info()"
   ]
  },
  {
   "cell_type": "code",
   "execution_count": 11,
   "id": "08b62c8f",
   "metadata": {},
   "outputs": [
    {
     "data": {
      "text/plain": [
       "0      actual\n",
       "1      actual\n",
       "2      actual\n",
       "3      actual\n",
       "4      actual\n",
       "        ...  \n",
       "709    actual\n",
       "710    actual\n",
       "711    actual\n",
       "712    actual\n",
       "713    actual\n",
       "Name: magnitude, Length: 714, dtype: object"
      ]
     },
     "execution_count": 11,
     "metadata": {},
     "output_type": "execute_result"
    }
   ],
   "source": [
    "d = s1['magnitude'].str.replace('A','a')\n",
    "d"
   ]
  },
  {
   "cell_type": "code",
   "execution_count": 12,
   "id": "6c825b30",
   "metadata": {},
   "outputs": [
    {
     "data": {
      "text/plain": [
       "0      fisheries and aquaculture\n",
       "1      fisheries and aquaculture\n",
       "2      fisheries and aquaculture\n",
       "3      fisheries and aquaculture\n",
       "4      fisheries and aquaculture\n",
       "                 ...            \n",
       "709         total marine economy\n",
       "710         total marine economy\n",
       "711         total marine economy\n",
       "712         total marine economy\n",
       "713         total marine economy\n",
       "Name: category, Length: 714, dtype: object"
      ]
     },
     "execution_count": 12,
     "metadata": {},
     "output_type": "execute_result"
    }
   ],
   "source": [
    "s1['category'].str.lower()"
   ]
  },
  {
   "cell_type": "code",
   "execution_count": 13,
   "id": "c09d211c",
   "metadata": {},
   "outputs": [
    {
     "data": {
      "text/plain": [
       "0      FISHERIES AND AQUACULTURE\n",
       "1      FISHERIES AND AQUACULTURE\n",
       "2      FISHERIES AND AQUACULTURE\n",
       "3      FISHERIES AND AQUACULTURE\n",
       "4      FISHERIES AND AQUACULTURE\n",
       "                 ...            \n",
       "709         TOTAL MARINE ECONOMY\n",
       "710         TOTAL MARINE ECONOMY\n",
       "711         TOTAL MARINE ECONOMY\n",
       "712         TOTAL MARINE ECONOMY\n",
       "713         TOTAL MARINE ECONOMY\n",
       "Name: category, Length: 714, dtype: object"
      ]
     },
     "execution_count": 13,
     "metadata": {},
     "output_type": "execute_result"
    }
   ],
   "source": [
    "s1['category'].str.upper()"
   ]
  },
  {
   "cell_type": "code",
   "execution_count": 21,
   "id": "bf47abbe",
   "metadata": {},
   "outputs": [
    {
     "data": {
      "text/plain": [
       "0      False\n",
       "1      False\n",
       "2      False\n",
       "3      False\n",
       "4      False\n",
       "       ...  \n",
       "709    False\n",
       "710    False\n",
       "711    False\n",
       "712    False\n",
       "713    False\n",
       "Name: source, Length: 714, dtype: bool"
      ]
     },
     "execution_count": 21,
     "metadata": {},
     "output_type": "execute_result"
    }
   ],
   "source": [
    "s1['source'].str.contains('a',case=False)"
   ]
  },
  {
   "cell_type": "code",
   "execution_count": 24,
   "id": "cc043318",
   "metadata": {},
   "outputs": [
    {
     "data": {
      "text/plain": [
       "0     True\n",
       "1    False\n",
       "dtype: bool"
      ]
     },
     "execution_count": 24,
     "metadata": {},
     "output_type": "execute_result"
    }
   ],
   "source": [
    "s = pd.Series(['ABC', 'Def'])\n",
    "result = s.str.contains('A', case=True)\n",
    "result\n"
   ]
  },
  {
   "cell_type": "code",
   "execution_count": 35,
   "id": "5269669a",
   "metadata": {},
   "outputs": [
    {
     "data": {
      "text/plain": [
       "0      25\n",
       "1      25\n",
       "2      25\n",
       "3      25\n",
       "4      25\n",
       "       ..\n",
       "709    20\n",
       "710    20\n",
       "711    20\n",
       "712    20\n",
       "713    20\n",
       "Name: category, Length: 714, dtype: int64"
      ]
     },
     "execution_count": 35,
     "metadata": {},
     "output_type": "execute_result"
    }
   ],
   "source": [
    "s1['category'].str.len()"
   ]
  },
  {
   "cell_type": "code",
   "execution_count": 36,
   "id": "72805787",
   "metadata": {},
   "outputs": [
    {
     "data": {
      "text/plain": [
       "0      Fisheries and aquaculture\n",
       "1      Fisheries and aquaculture\n",
       "2      Fisheries and aquaculture\n",
       "3      Fisheries and aquaculture\n",
       "4      Fisheries and aquaculture\n",
       "                 ...            \n",
       "709         Total marine economy\n",
       "710         Total marine economy\n",
       "711         Total marine economy\n",
       "712         Total marine economy\n",
       "713         Total marine economy\n",
       "Name: category, Length: 714, dtype: object"
      ]
     },
     "execution_count": 36,
     "metadata": {},
     "output_type": "execute_result"
    }
   ],
   "source": [
    "s1['category'].str.strip() # Removes leading and trailing characters (default: whitespace) from strings."
   ]
  }
 ],
 "metadata": {
  "kernelspec": {
   "display_name": "venv (3.13.5)",
   "language": "python",
   "name": "python3"
  },
  "language_info": {
   "codemirror_mode": {
    "name": "ipython",
    "version": 3
   },
   "file_extension": ".py",
   "mimetype": "text/x-python",
   "name": "python",
   "nbconvert_exporter": "python",
   "pygments_lexer": "ipython3",
   "version": "3.13.5"
  }
 },
 "nbformat": 4,
 "nbformat_minor": 5
}
