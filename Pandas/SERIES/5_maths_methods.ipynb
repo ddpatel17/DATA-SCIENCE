{
 "cells": [
  {
   "cell_type": "code",
   "execution_count": 1,
   "id": "1980504a",
   "metadata": {},
   "outputs": [],
   "source": [
    "import numpy as np\n",
    "import pandas as pd"
   ]
  },
  {
   "cell_type": "code",
   "execution_count": 2,
   "id": "6751a4ff",
   "metadata": {},
   "outputs": [
    {
     "data": {
      "text/html": [
       "<div>\n",
       "<style scoped>\n",
       "    .dataframe tbody tr th:only-of-type {\n",
       "        vertical-align: middle;\n",
       "    }\n",
       "\n",
       "    .dataframe tbody tr th {\n",
       "        vertical-align: top;\n",
       "    }\n",
       "\n",
       "    .dataframe thead th {\n",
       "        text-align: right;\n",
       "    }\n",
       "</style>\n",
       "<table border=\"1\" class=\"dataframe\">\n",
       "  <thead>\n",
       "    <tr style=\"text-align: right;\">\n",
       "      <th></th>\n",
       "      <th>year</th>\n",
       "      <th>category</th>\n",
       "      <th>variable</th>\n",
       "      <th>units</th>\n",
       "      <th>magnitude</th>\n",
       "      <th>source</th>\n",
       "      <th>data_value</th>\n",
       "      <th>flag</th>\n",
       "    </tr>\n",
       "  </thead>\n",
       "  <tbody>\n",
       "    <tr>\n",
       "      <th>0</th>\n",
       "      <td>2007</td>\n",
       "      <td>Fisheries and aquaculture</td>\n",
       "      <td>Cont. to ME Wage and salary earners</td>\n",
       "      <td>Proportion</td>\n",
       "      <td>Actual</td>\n",
       "      <td>LEED</td>\n",
       "      <td>42.1</td>\n",
       "      <td>F</td>\n",
       "    </tr>\n",
       "    <tr>\n",
       "      <th>1</th>\n",
       "      <td>2008</td>\n",
       "      <td>Fisheries and aquaculture</td>\n",
       "      <td>Cont. to ME Wage and salary earners</td>\n",
       "      <td>Proportion</td>\n",
       "      <td>Actual</td>\n",
       "      <td>LEED</td>\n",
       "      <td>39.4</td>\n",
       "      <td>F</td>\n",
       "    </tr>\n",
       "    <tr>\n",
       "      <th>2</th>\n",
       "      <td>2009</td>\n",
       "      <td>Fisheries and aquaculture</td>\n",
       "      <td>Cont. to ME Wage and salary earners</td>\n",
       "      <td>Proportion</td>\n",
       "      <td>Actual</td>\n",
       "      <td>LEED</td>\n",
       "      <td>39.9</td>\n",
       "      <td>R</td>\n",
       "    </tr>\n",
       "    <tr>\n",
       "      <th>3</th>\n",
       "      <td>2010</td>\n",
       "      <td>Fisheries and aquaculture</td>\n",
       "      <td>Cont. to ME Wage and salary earners</td>\n",
       "      <td>Proportion</td>\n",
       "      <td>Actual</td>\n",
       "      <td>LEED</td>\n",
       "      <td>40.8</td>\n",
       "      <td>F</td>\n",
       "    </tr>\n",
       "    <tr>\n",
       "      <th>4</th>\n",
       "      <td>2011</td>\n",
       "      <td>Fisheries and aquaculture</td>\n",
       "      <td>Cont. to ME Wage and salary earners</td>\n",
       "      <td>Proportion</td>\n",
       "      <td>Actual</td>\n",
       "      <td>LEED</td>\n",
       "      <td>39.9</td>\n",
       "      <td>F</td>\n",
       "    </tr>\n",
       "  </tbody>\n",
       "</table>\n",
       "</div>"
      ],
      "text/plain": [
       "   year                   category                             variable  \\\n",
       "0  2007  Fisheries and aquaculture  Cont. to ME Wage and salary earners   \n",
       "1  2008  Fisheries and aquaculture  Cont. to ME Wage and salary earners   \n",
       "2  2009  Fisheries and aquaculture  Cont. to ME Wage and salary earners   \n",
       "3  2010  Fisheries and aquaculture  Cont. to ME Wage and salary earners   \n",
       "4  2011  Fisheries and aquaculture  Cont. to ME Wage and salary earners   \n",
       "\n",
       "        units magnitude source  data_value flag  \n",
       "0  Proportion    Actual   LEED        42.1    F  \n",
       "1  Proportion    Actual   LEED        39.4    F  \n",
       "2  Proportion    Actual   LEED        39.9    R  \n",
       "3  Proportion    Actual   LEED        40.8    F  \n",
       "4  Proportion    Actual   LEED        39.9    F  "
      ]
     },
     "execution_count": 2,
     "metadata": {},
     "output_type": "execute_result"
    }
   ],
   "source": [
    "s1 = pd.read_csv(\"../../Data/marine economy.csv\")\n",
    "s1.head()"
   ]
  },
  {
   "cell_type": "code",
   "execution_count": 3,
   "id": "1635792e",
   "metadata": {},
   "outputs": [
    {
     "data": {
      "text/plain": [
       "array(['LEED', 'Environmental Accounts'], dtype=object)"
      ]
     },
     "execution_count": 3,
     "metadata": {},
     "output_type": "execute_result"
    }
   ],
   "source": [
    "s1['source'].unique()"
   ]
  },
  {
   "cell_type": "code",
   "execution_count": 4,
   "id": "7e7530d5",
   "metadata": {},
   "outputs": [
    {
     "data": {
      "text/plain": [
       "array(['F', 'R', 'P'], dtype=object)"
      ]
     },
     "execution_count": 4,
     "metadata": {},
     "output_type": "execute_result"
    }
   ],
   "source": [
    "s1['flag'].unique()"
   ]
  },
  {
   "cell_type": "code",
   "execution_count": 5,
   "id": "406cec90",
   "metadata": {},
   "outputs": [
    {
     "name": "stdout",
     "output_type": "stream",
     "text": [
      "year\n",
      "2007    42.1\n",
      "2008    39.4\n",
      "2009    39.9\n",
      "2010    40.8\n",
      "2011    39.9\n",
      "Name: data_value, dtype: float64\n"
     ]
    },
    {
     "data": {
      "text/plain": [
       "pandas.core.series.Series"
      ]
     },
     "execution_count": 5,
     "metadata": {},
     "output_type": "execute_result"
    }
   ],
   "source": [
    "s1 = pd.read_csv(\"../../Data/marine economy.csv\",usecols=['year','data_value'],index_col='year').squeeze()\n",
    "print(s1.head())\n",
    "type(s1)"
   ]
  },
  {
   "cell_type": "code",
   "execution_count": 6,
   "id": "3b3011a7",
   "metadata": {},
   "outputs": [
    {
     "data": {
      "text/plain": [
       "year\n",
       "2007       42.1\n",
       "2008       39.4\n",
       "2009       39.9\n",
       "2010       40.8\n",
       "2011       39.9\n",
       "         ...   \n",
       "2017    38082.0\n",
       "2018    38880.0\n",
       "2019    39867.0\n",
       "2020    40593.0\n",
       "2021    39474.0\n",
       "Name: data_value, Length: 714, dtype: float64"
      ]
     },
     "execution_count": 6,
     "metadata": {},
     "output_type": "execute_result"
    }
   ],
   "source": [
    "s1.abs()"
   ]
  },
  {
   "cell_type": "code",
   "execution_count": 7,
   "id": "c965bc3f",
   "metadata": {},
   "outputs": [
    {
     "data": {
      "text/plain": [
       "np.int64(2011)"
      ]
     },
     "execution_count": 7,
     "metadata": {},
     "output_type": "execute_result"
    }
   ],
   "source": [
    "s1.idxmax()"
   ]
  },
  {
   "cell_type": "code",
   "execution_count": 8,
   "id": "58614b9b",
   "metadata": {},
   "outputs": [
    {
     "data": {
      "text/plain": [
       "np.int64(2017)"
      ]
     },
     "execution_count": 8,
     "metadata": {},
     "output_type": "execute_result"
    }
   ],
   "source": [
    "s1.idxmin()"
   ]
  },
  {
   "cell_type": "code",
   "execution_count": 9,
   "id": "bcf1f241",
   "metadata": {},
   "outputs": [
    {
     "data": {
      "text/plain": [
       "np.float64(-6739.0)"
      ]
     },
     "execution_count": 9,
     "metadata": {},
     "output_type": "execute_result"
    }
   ],
   "source": [
    "s1.min()"
   ]
  },
  {
   "cell_type": "code",
   "execution_count": 10,
   "id": "fa6dc198",
   "metadata": {},
   "outputs": [
    {
     "data": {
      "text/plain": [
       "np.float64(4611116.0)"
      ]
     },
     "execution_count": 10,
     "metadata": {},
     "output_type": "execute_result"
    }
   ],
   "source": [
    "s1.max()"
   ]
  },
  {
   "cell_type": "code",
   "execution_count": 11,
   "id": "8ccadecb",
   "metadata": {},
   "outputs": [
    {
     "data": {
      "text/plain": [
       "714"
      ]
     },
     "execution_count": 11,
     "metadata": {},
     "output_type": "execute_result"
    }
   ],
   "source": [
    "len(s1)"
   ]
  },
  {
   "cell_type": "code",
   "execution_count": 12,
   "id": "057f011e",
   "metadata": {},
   "outputs": [
    {
     "data": {
      "text/plain": [
       "year\n",
       "2017   -6739.0\n",
       "2017      -0.2\n",
       "2020       0.0\n",
       "2019       0.0\n",
       "2012       0.0\n",
       "         ...  \n",
       "2008       NaN\n",
       "2007       NaN\n",
       "2008       NaN\n",
       "2007       NaN\n",
       "2008       NaN\n",
       "Name: data_value, Length: 714, dtype: float64"
      ]
     },
     "execution_count": 12,
     "metadata": {},
     "output_type": "execute_result"
    }
   ],
   "source": [
    "s = s1.sort_values(ascending=True,na_position='last') # for value\n",
    "s"
   ]
  },
  {
   "cell_type": "code",
   "execution_count": 13,
   "id": "7f6c8403",
   "metadata": {},
   "outputs": [
    {
     "data": {
      "text/plain": [
       "year\n",
       "2007         42.1\n",
       "2007         41.6\n",
       "2007    1480564.0\n",
       "2007     548840.0\n",
       "2007          1.7\n",
       "          ...    \n",
       "2021     247311.0\n",
       "2021          6.3\n",
       "2021          0.1\n",
       "2021    2321600.0\n",
       "2021          3.7\n",
       "Name: data_value, Length: 714, dtype: float64"
      ]
     },
     "execution_count": 13,
     "metadata": {},
     "output_type": "execute_result"
    }
   ],
   "source": [
    "s2 = s1.sort_index(ascending=True,key=None) # for index\n",
    "s2"
   ]
  },
  {
   "cell_type": "code",
   "execution_count": 14,
   "id": "8da90614",
   "metadata": {},
   "outputs": [
    {
     "data": {
      "text/plain": [
       "year\n",
       "2007       52.1\n",
       "2008       49.4\n",
       "2009       49.9\n",
       "2010       50.8\n",
       "2011       49.9\n",
       "         ...   \n",
       "2017    38092.0\n",
       "2018    38890.0\n",
       "2019    39877.0\n",
       "2020    40603.0\n",
       "2021    39484.0\n",
       "Name: data_value, Length: 714, dtype: float64"
      ]
     },
     "execution_count": 14,
     "metadata": {},
     "output_type": "execute_result"
    }
   ],
   "source": [
    "s3= s1.add(10,fill_value=0)\n",
    "s3  "
   ]
  },
  {
   "cell_type": "code",
   "execution_count": 15,
   "id": "73c60847",
   "metadata": {},
   "outputs": [
    {
     "data": {
      "text/plain": [
       "year\n",
       "2007       32.1\n",
       "2008       29.4\n",
       "2009       29.9\n",
       "2010       30.8\n",
       "2011       29.9\n",
       "         ...   \n",
       "2017    38072.0\n",
       "2018    38870.0\n",
       "2019    39857.0\n",
       "2020    40583.0\n",
       "2021    39464.0\n",
       "Name: data_value, Length: 714, dtype: float64"
      ]
     },
     "execution_count": 15,
     "metadata": {},
     "output_type": "execute_result"
    }
   ],
   "source": [
    "s1.sub(10,fill_value=0)"
   ]
  },
  {
   "cell_type": "code",
   "execution_count": 16,
   "id": "34481fd0",
   "metadata": {},
   "outputs": [
    {
     "data": {
      "text/plain": [
       "year\n",
       "2007       42.1\n",
       "2008       39.4\n",
       "2009       39.9\n",
       "2010       40.8\n",
       "2011       39.9\n",
       "         ...   \n",
       "2017    38082.0\n",
       "2018    38880.0\n",
       "2019    39867.0\n",
       "2020    40593.0\n",
       "2021    39474.0\n",
       "Name: data_value, Length: 714, dtype: float64"
      ]
     },
     "execution_count": 16,
     "metadata": {},
     "output_type": "execute_result"
    }
   ],
   "source": [
    "s1.mul(1,fill_value=0)"
   ]
  },
  {
   "cell_type": "code",
   "execution_count": 17,
   "id": "30df0780",
   "metadata": {},
   "outputs": [
    {
     "data": {
      "text/plain": [
       "year\n",
       "2007       42.1\n",
       "2008       39.4\n",
       "2009       39.9\n",
       "2010       40.8\n",
       "2011       39.9\n",
       "         ...   \n",
       "2017    38082.0\n",
       "2018    38880.0\n",
       "2019    39867.0\n",
       "2020    40593.0\n",
       "2021    39474.0\n",
       "Name: data_value, Length: 714, dtype: float64"
      ]
     },
     "execution_count": 17,
     "metadata": {},
     "output_type": "execute_result"
    }
   ],
   "source": [
    "s1.div(1,fill_value=0)"
   ]
  },
  {
   "cell_type": "code",
   "execution_count": 18,
   "id": "68beca6f",
   "metadata": {},
   "outputs": [
    {
     "data": {
      "text/plain": [
       "year\n",
       "2007    1.772410e+03\n",
       "2008    1.552360e+03\n",
       "2009    1.592010e+03\n",
       "2010    1.664640e+03\n",
       "2011    1.592010e+03\n",
       "            ...     \n",
       "2017    1.450239e+09\n",
       "2018    1.511654e+09\n",
       "2019    1.589378e+09\n",
       "2020    1.647792e+09\n",
       "2021    1.558197e+09\n",
       "Name: data_value, Length: 714, dtype: float64"
      ]
     },
     "execution_count": 18,
     "metadata": {},
     "output_type": "execute_result"
    }
   ],
   "source": [
    "s1.pow(2,fill_value=0) # root"
   ]
  },
  {
   "cell_type": "code",
   "execution_count": 19,
   "id": "e5f71d63",
   "metadata": {},
   "outputs": [
    {
     "data": {
      "text/plain": [
       "np.float64(203901235.59999996)"
      ]
     },
     "execution_count": 19,
     "metadata": {},
     "output_type": "execute_result"
    }
   ],
   "source": [
    "s1.sum()"
   ]
  },
  {
   "cell_type": "code",
   "execution_count": 20,
   "id": "7454b7a0",
   "metadata": {},
   "outputs": [
    {
     "data": {
      "text/plain": [
       "np.float64(290457.60056980053)"
      ]
     },
     "execution_count": 20,
     "metadata": {},
     "output_type": "execute_result"
    }
   ],
   "source": [
    "s1.mean() # average"
   ]
  },
  {
   "cell_type": "code",
   "execution_count": 21,
   "id": "7d47b639",
   "metadata": {},
   "outputs": [
    {
     "data": {
      "text/plain": [
       "np.float64(1156.5)"
      ]
     },
     "execution_count": 21,
     "metadata": {},
     "output_type": "execute_result"
    }
   ],
   "source": [
    "s1.median() # middle value when sorted"
   ]
  },
  {
   "cell_type": "code",
   "execution_count": 22,
   "id": "31ee2775",
   "metadata": {},
   "outputs": [
    {
     "data": {
      "text/plain": [
       "<bound method Series.mode of year\n",
       "2007       42.1\n",
       "2008       39.4\n",
       "2009       39.9\n",
       "2010       40.8\n",
       "2011       39.9\n",
       "         ...   \n",
       "2017    38082.0\n",
       "2018    38880.0\n",
       "2019    39867.0\n",
       "2020    40593.0\n",
       "2021    39474.0\n",
       "Name: data_value, Length: 714, dtype: float64>"
      ]
     },
     "execution_count": 22,
     "metadata": {},
     "output_type": "execute_result"
    }
   ],
   "source": [
    "s1.mode"
   ]
  },
  {
   "cell_type": "code",
   "execution_count": 23,
   "id": "769869da",
   "metadata": {},
   "outputs": [
    {
     "data": {
      "text/plain": [
       "0    0.0\n",
       "Name: data_value, dtype: float64"
      ]
     },
     "execution_count": 23,
     "metadata": {},
     "output_type": "execute_result"
    }
   ],
   "source": [
    "s1.mode()"
   ]
  },
  {
   "cell_type": "code",
   "execution_count": 24,
   "id": "78ce771a",
   "metadata": {},
   "outputs": [
    {
     "data": {
      "text/plain": [
       "np.int64(702)"
      ]
     },
     "execution_count": 24,
     "metadata": {},
     "output_type": "execute_result"
    }
   ],
   "source": [
    "s1.count()"
   ]
  },
  {
   "cell_type": "code",
   "execution_count": 25,
   "id": "7977aca0",
   "metadata": {},
   "outputs": [
    {
     "data": {
      "text/plain": [
       "np.float64(733797.0658753068)"
      ]
     },
     "execution_count": 25,
     "metadata": {},
     "output_type": "execute_result"
    }
   ],
   "source": [
    "s1.std()"
   ]
  },
  {
   "cell_type": "code",
   "execution_count": 26,
   "id": "3ba1447e",
   "metadata": {},
   "outputs": [
    {
     "data": {
      "text/plain": [
       "np.float64(538458133887.20935)"
      ]
     },
     "execution_count": 26,
     "metadata": {},
     "output_type": "execute_result"
    }
   ],
   "source": [
    "s1.var()"
   ]
  },
  {
   "cell_type": "code",
   "execution_count": 27,
   "id": "c4aeeb7b",
   "metadata": {},
   "outputs": [
    {
     "data": {
      "text/plain": [
       "year\n",
       "2007    False\n",
       "2008    False\n",
       "2009    False\n",
       "2010    False\n",
       "2011    False\n",
       "        ...  \n",
       "2017    False\n",
       "2018    False\n",
       "2019    False\n",
       "2020    False\n",
       "2021    False\n",
       "Name: data_value, Length: 714, dtype: bool"
      ]
     },
     "execution_count": 27,
     "metadata": {},
     "output_type": "execute_result"
    }
   ],
   "source": [
    "s1.isnull()"
   ]
  },
  {
   "cell_type": "code",
   "execution_count": 28,
   "id": "72ba38a5",
   "metadata": {},
   "outputs": [
    {
     "data": {
      "text/plain": [
       "year\n",
       "2007   NaN\n",
       "2008   NaN\n",
       "2007   NaN\n",
       "2008   NaN\n",
       "2007   NaN\n",
       "2008   NaN\n",
       "2007   NaN\n",
       "2008   NaN\n",
       "2007   NaN\n",
       "2008   NaN\n",
       "2007   NaN\n",
       "2008   NaN\n",
       "Name: data_value, dtype: float64"
      ]
     },
     "execution_count": 28,
     "metadata": {},
     "output_type": "execute_result"
    }
   ],
   "source": [
    "mask = s1.isnull()\n",
    "s1[mask]"
   ]
  },
  {
   "cell_type": "code",
   "execution_count": 29,
   "id": "5aa4da37",
   "metadata": {},
   "outputs": [
    {
     "data": {
      "text/plain": [
       "year\n",
       "2007    True\n",
       "2008    True\n",
       "2009    True\n",
       "2010    True\n",
       "2011    True\n",
       "        ... \n",
       "2017    True\n",
       "2018    True\n",
       "2019    True\n",
       "2020    True\n",
       "2021    True\n",
       "Name: data_value, Length: 714, dtype: bool"
      ]
     },
     "execution_count": 29,
     "metadata": {},
     "output_type": "execute_result"
    }
   ],
   "source": [
    "s1.notnull()"
   ]
  },
  {
   "cell_type": "code",
   "execution_count": 30,
   "id": "61d4f2cb",
   "metadata": {},
   "outputs": [
    {
     "data": {
      "text/plain": [
       "year\n",
       "2007       42.1\n",
       "2008       39.4\n",
       "2009       39.9\n",
       "2010       40.8\n",
       "2011       39.9\n",
       "         ...   \n",
       "2017    38082.0\n",
       "2018    38880.0\n",
       "2019    39867.0\n",
       "2020    40593.0\n",
       "2021    39474.0\n",
       "Name: data_value, Length: 702, dtype: float64"
      ]
     },
     "execution_count": 30,
     "metadata": {},
     "output_type": "execute_result"
    }
   ],
   "source": [
    "mask = s1.notnull()\n",
    "s1[mask]"
   ]
  },
  {
   "cell_type": "code",
   "execution_count": 31,
   "id": "7c303247",
   "metadata": {},
   "outputs": [
    {
     "data": {
      "text/plain": [
       "year\n",
       "2007       42.1\n",
       "2008       39.4\n",
       "2009       39.9\n",
       "2010       40.8\n",
       "2011       39.9\n",
       "         ...   \n",
       "2017    38082.0\n",
       "2018    38880.0\n",
       "2019    39867.0\n",
       "2020    40593.0\n",
       "2021    39474.0\n",
       "Name: data_value, Length: 714, dtype: float64"
      ]
     },
     "execution_count": 31,
     "metadata": {},
     "output_type": "execute_result"
    }
   ],
   "source": [
    "s1.dropna()\n",
    "s1"
   ]
  },
  {
   "cell_type": "code",
   "execution_count": 32,
   "id": "77219f25",
   "metadata": {},
   "outputs": [
    {
     "data": {
      "text/plain": [
       "year\n",
       "2007       42.1\n",
       "2008       39.4\n",
       "2009       39.9\n",
       "2010       40.8\n",
       "2011       39.9\n",
       "         ...   \n",
       "2017    38082.0\n",
       "2018    38880.0\n",
       "2019    39867.0\n",
       "2020    40593.0\n",
       "2021    39474.0\n",
       "Name: data_value, Length: 714, dtype: float64"
      ]
     },
     "execution_count": 32,
     "metadata": {},
     "output_type": "execute_result"
    }
   ],
   "source": [
    "s5 = s1.fillna(0)\n",
    "s5"
   ]
  },
  {
   "cell_type": "code",
   "execution_count": 33,
   "id": "770cde0a",
   "metadata": {},
   "outputs": [
    {
     "data": {
      "text/plain": [
       "year\n",
       "2007    False\n",
       "2008    False\n",
       "2009    False\n",
       "2010    False\n",
       "2011    False\n",
       "        ...  \n",
       "2017    False\n",
       "2018    False\n",
       "2019    False\n",
       "2020    False\n",
       "2021    False\n",
       "Name: data_value, Length: 714, dtype: bool"
      ]
     },
     "execution_count": 33,
     "metadata": {},
     "output_type": "execute_result"
    }
   ],
   "source": [
    "s5.isnull()"
   ]
  },
  {
   "cell_type": "code",
   "execution_count": 34,
   "id": "3402db58",
   "metadata": {},
   "outputs": [
    {
     "data": {
      "text/plain": [
       "year\n",
       "2007    True\n",
       "2008    True\n",
       "2009    True\n",
       "2010    True\n",
       "2011    True\n",
       "        ... \n",
       "2017    True\n",
       "2018    True\n",
       "2019    True\n",
       "2020    True\n",
       "2021    True\n",
       "Name: data_value, Length: 714, dtype: bool"
      ]
     },
     "execution_count": 34,
     "metadata": {},
     "output_type": "execute_result"
    }
   ],
   "source": [
    "s5.notnull()"
   ]
  },
  {
   "cell_type": "code",
   "execution_count": 35,
   "id": "060b35bc",
   "metadata": {},
   "outputs": [
    {
     "data": {
      "text/plain": [
       "year\n",
       "2007    False\n",
       "2008    False\n",
       "2009    False\n",
       "2010    False\n",
       "2011     True\n",
       "        ...  \n",
       "2017    False\n",
       "2018    False\n",
       "2019    False\n",
       "2020    False\n",
       "2021    False\n",
       "Name: data_value, Length: 714, dtype: bool"
      ]
     },
     "execution_count": 35,
     "metadata": {},
     "output_type": "execute_result"
    }
   ],
   "source": [
    "s1.duplicated()"
   ]
  },
  {
   "cell_type": "code",
   "execution_count": 36,
   "id": "96055cf9",
   "metadata": {},
   "outputs": [
    {
     "data": {
      "text/plain": [
       "year\n",
       "2011    39.9\n",
       "2016    40.8\n",
       "2017    41.6\n",
       "2007    41.6\n",
       "2010    38.6\n",
       "        ... \n",
       "2015     1.7\n",
       "2018     1.5\n",
       "2019     1.4\n",
       "2020     1.4\n",
       "2021     1.2\n",
       "Name: data_value, Length: 199, dtype: float64"
      ]
     },
     "execution_count": 36,
     "metadata": {},
     "output_type": "execute_result"
    }
   ],
   "source": [
    "mask = s1.duplicated()\n",
    "s1[mask]"
   ]
  },
  {
   "cell_type": "code",
   "execution_count": 37,
   "id": "4ebd9517",
   "metadata": {},
   "outputs": [
    {
     "data": {
      "text/plain": [
       "year\n",
       "2007       42.1\n",
       "2008       39.4\n",
       "2009       39.9\n",
       "2010       40.8\n",
       "2011       39.9\n",
       "         ...   \n",
       "2017    38082.0\n",
       "2018    38880.0\n",
       "2019    39867.0\n",
       "2020    40593.0\n",
       "2021    39474.0\n",
       "Name: data_value, Length: 714, dtype: float64"
      ]
     },
     "execution_count": 37,
     "metadata": {},
     "output_type": "execute_result"
    }
   ],
   "source": [
    "s1.drop_duplicates()\n",
    "s1"
   ]
  },
  {
   "cell_type": "code",
   "execution_count": 38,
   "id": "fedd661f",
   "metadata": {},
   "outputs": [
    {
     "data": {
      "text/plain": [
       "year\n",
       "2007       42.1\n",
       "2008       39.4\n",
       "2009       39.9\n",
       "2010       40.8\n",
       "2011       39.9\n",
       "         ...   \n",
       "2017    38082.0\n",
       "2018    38880.0\n",
       "2019    39867.0\n",
       "2020    40593.0\n",
       "2021    39474.0\n",
       "Name: data_value, Length: 714, dtype: float64"
      ]
     },
     "execution_count": 38,
     "metadata": {},
     "output_type": "execute_result"
    }
   ],
   "source": [
    "s6 = s1.copy()\n",
    "s6"
   ]
  },
  {
   "cell_type": "code",
   "execution_count": 39,
   "id": "32d95ee0",
   "metadata": {},
   "outputs": [
    {
     "data": {
      "text/plain": [
       "year\n",
       "2007    1000.0\n",
       "2008      39.4\n",
       "2009      39.9\n",
       "2010      40.8\n",
       "2011      39.9\n",
       "Name: data_value, dtype: float64"
      ]
     },
     "execution_count": 39,
     "metadata": {},
     "output_type": "execute_result"
    }
   ],
   "source": [
    "s7 = s6.replace(42.1,1000)\n",
    "s7.head(5)\n"
   ]
  },
  {
   "cell_type": "code",
   "execution_count": 40,
   "id": "6a7ffd8c",
   "metadata": {},
   "outputs": [
    {
     "data": {
      "text/plain": [
       "year\n",
       "2007      50.0\n",
       "2008      50.0\n",
       "2009      50.0\n",
       "2010      50.0\n",
       "2011      50.0\n",
       "         ...  \n",
       "2017    1000.0\n",
       "2018    1000.0\n",
       "2019    1000.0\n",
       "2020    1000.0\n",
       "2021    1000.0\n",
       "Name: data_value, Length: 714, dtype: float64"
      ]
     },
     "execution_count": 40,
     "metadata": {},
     "output_type": "execute_result"
    }
   ],
   "source": [
    "s1.clip(50,1000) # limit value to a specified minimum and maximum range."
   ]
  },
  {
   "cell_type": "code",
   "execution_count": 41,
   "id": "a55b4304",
   "metadata": {},
   "outputs": [
    {
     "data": {
      "text/plain": [
       "year\n",
       "2007     42.1\n",
       "2008     81.5\n",
       "2009    121.4\n",
       "2010    162.2\n",
       "2011    202.1\n",
       "        ...  \n",
       "2017      NaN\n",
       "2018      NaN\n",
       "2019      NaN\n",
       "2020      NaN\n",
       "2021      NaN\n",
       "Name: data_value, Length: 714, dtype: float64"
      ]
     },
     "execution_count": 41,
     "metadata": {},
     "output_type": "execute_result"
    }
   ],
   "source": [
    "s1.cumsum(skipna=False) # computes the cumulative sum of series values, For Ex: 1,1+2,1+2+3"
   ]
  },
  {
   "cell_type": "code",
   "execution_count": 43,
   "id": "7d4b884d",
   "metadata": {},
   "outputs": [
    {
     "name": "stderr",
     "output_type": "stream",
     "text": [
      "e:\\DATA SCIENCE\\venv\\Lib\\site-packages\\numpy\\_core\\fromnumeric.py:57: RuntimeWarning: overflow encountered in accumulate\n",
      "  return bound(*args, **kwds)\n",
      "e:\\DATA SCIENCE\\venv\\Lib\\site-packages\\numpy\\_core\\fromnumeric.py:57: RuntimeWarning: invalid value encountered in accumulate\n",
      "  return bound(*args, **kwds)\n"
     ]
    },
    {
     "data": {
      "text/plain": [
       "year\n",
       "2007    4.210000e+01\n",
       "2008    1.658740e+03\n",
       "2009    6.618373e+04\n",
       "2010    2.700296e+06\n",
       "2011    1.077418e+08\n",
       "            ...     \n",
       "2017             NaN\n",
       "2018             NaN\n",
       "2019             NaN\n",
       "2020             NaN\n",
       "2021             NaN\n",
       "Name: data_value, Length: 714, dtype: float64"
      ]
     },
     "execution_count": 43,
     "metadata": {},
     "output_type": "execute_result"
    }
   ],
   "source": [
    "s1.cumprod(skipna=True) # computes the cumulative product of series values, For Ex: 1,1*2,1*2*3"
   ]
  }
 ],
 "metadata": {
  "kernelspec": {
   "display_name": "venv (3.13.5)",
   "language": "python",
   "name": "python3"
  },
  "language_info": {
   "codemirror_mode": {
    "name": "ipython",
    "version": 3
   },
   "file_extension": ".py",
   "mimetype": "text/x-python",
   "name": "python",
   "nbconvert_exporter": "python",
   "pygments_lexer": "ipython3",
   "version": "3.13.5"
  }
 },
 "nbformat": 4,
 "nbformat_minor": 5
}
