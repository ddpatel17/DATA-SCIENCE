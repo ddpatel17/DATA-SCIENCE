{
 "cells": [
  {
   "cell_type": "code",
   "execution_count": 1,
   "id": "cd3db9a5",
   "metadata": {},
   "outputs": [],
   "source": [
    "import numpy as np\n",
    "import pandas as pd"
   ]
  },
  {
   "cell_type": "code",
   "execution_count": 25,
   "id": "0040eff4",
   "metadata": {},
   "outputs": [
    {
     "name": "stdout",
     "output_type": "stream",
     "text": [
      "   year                   category                             variable  \\\n",
      "0  2007  Fisheries and aquaculture  Cont. to ME Wage and salary earners   \n",
      "1  2008  Fisheries and aquaculture  Cont. to ME Wage and salary earners   \n",
      "2  2009  Fisheries and aquaculture  Cont. to ME Wage and salary earners   \n",
      "3  2010  Fisheries and aquaculture  Cont. to ME Wage and salary earners   \n",
      "4  2011  Fisheries and aquaculture  Cont. to ME Wage and salary earners   \n",
      "\n",
      "        units magnitude source  data_value flag  \n",
      "0  Proportion    Actual   LEED        42.1    F  \n",
      "1  Proportion    Actual   LEED        39.4    F  \n",
      "2  Proportion    Actual   LEED        39.9    R  \n",
      "3  Proportion    Actual   LEED        40.8    F  \n",
      "4  Proportion    Actual   LEED        39.9    F  \n"
     ]
    }
   ],
   "source": [
    "s1 = pd.read_csv(\"../../Data/marine economy.csv\")\n",
    "print(s1.head())"
   ]
  },
  {
   "cell_type": "code",
   "execution_count": 30,
   "id": "12f77130",
   "metadata": {},
   "outputs": [
    {
     "name": "stdout",
     "output_type": "stream",
     "text": [
      "                       category source  data_value\n",
      "year                                              \n",
      "2007  Fisheries and aquaculture   LEED        42.1\n",
      "2008  Fisheries and aquaculture   LEED        39.4\n",
      "2009  Fisheries and aquaculture   LEED        39.9\n",
      "2010  Fisheries and aquaculture   LEED        40.8\n",
      "2011  Fisheries and aquaculture   LEED        39.9\n"
     ]
    },
    {
     "data": {
      "text/plain": [
       "pandas.core.frame.DataFrame"
      ]
     },
     "execution_count": 30,
     "metadata": {},
     "output_type": "execute_result"
    }
   ],
   "source": [
    "s1 = pd.read_csv(\"../../Data/marine economy.csv\",usecols=['year','category','source','data_value'],index_col='year').squeeze()\n",
    "print(s1.head())\n",
    "type(s1)"
   ]
  },
  {
   "cell_type": "code",
   "execution_count": 31,
   "id": "66799adb",
   "metadata": {},
   "outputs": [
    {
     "name": "stdout",
     "output_type": "stream",
     "text": [
      "year\n",
      "2007    42.1\n",
      "2008    39.4\n",
      "2009    39.9\n",
      "2010    40.8\n",
      "2011    39.9\n",
      "Name: data_value, dtype: float64\n"
     ]
    },
    {
     "data": {
      "text/plain": [
       "pandas.core.series.Series"
      ]
     },
     "execution_count": 31,
     "metadata": {},
     "output_type": "execute_result"
    }
   ],
   "source": [
    "s1 = pd.read_csv(\"../../Data/marine economy.csv\",usecols=['year','data_value'],index_col='year').squeeze()\n",
    "print(s1.head())\n",
    "type(s1)"
   ]
  },
  {
   "cell_type": "code",
   "execution_count": 10,
   "id": "9676a717",
   "metadata": {},
   "outputs": [
    {
     "data": {
      "text/plain": [
       "Index([2007, 2008, 2009, 2010, 2011, 2012, 2013, 2014, 2015, 2016,\n",
       "       ...\n",
       "       2012, 2013, 2014, 2015, 2016, 2017, 2018, 2019, 2020, 2021],\n",
       "      dtype='int64', name='year', length=714)"
      ]
     },
     "execution_count": 10,
     "metadata": {},
     "output_type": "execute_result"
    }
   ],
   "source": [
    "s1.index"
   ]
  },
  {
   "cell_type": "code",
   "execution_count": 14,
   "id": "730cb739",
   "metadata": {},
   "outputs": [
    {
     "data": {
      "text/plain": [
       "array([['Fisheries and aquaculture', 'LEED', 42.1],\n",
       "       ['Fisheries and aquaculture', 'LEED', 39.4],\n",
       "       ['Fisheries and aquaculture', 'LEED', 39.9],\n",
       "       ...,\n",
       "       ['Total marine economy', 'LEED', 39867.0],\n",
       "       ['Total marine economy', 'LEED', 40593.0],\n",
       "       ['Total marine economy', 'LEED', 39474.0]],\n",
       "      shape=(714, 3), dtype=object)"
      ]
     },
     "execution_count": 14,
     "metadata": {},
     "output_type": "execute_result"
    }
   ],
   "source": [
    "s1.values"
   ]
  },
  {
   "cell_type": "code",
   "execution_count": 18,
   "id": "e4a2a872",
   "metadata": {},
   "outputs": [
    {
     "data": {
      "text/plain": [
       "category       object\n",
       "source         object\n",
       "data_value    float64\n",
       "dtype: object"
      ]
     },
     "execution_count": 18,
     "metadata": {},
     "output_type": "execute_result"
    }
   ],
   "source": [
    "s1.dtypes"
   ]
  },
  {
   "cell_type": "code",
   "execution_count": 32,
   "id": "6d8b9af4",
   "metadata": {},
   "outputs": [
    {
     "data": {
      "text/plain": [
       "'data_value'"
      ]
     },
     "execution_count": 32,
     "metadata": {},
     "output_type": "execute_result"
    }
   ],
   "source": [
    "s1.name"
   ]
  },
  {
   "cell_type": "code",
   "execution_count": 33,
   "id": "d7f6921d",
   "metadata": {},
   "outputs": [
    {
     "data": {
      "text/plain": [
       "(714,)"
      ]
     },
     "execution_count": 33,
     "metadata": {},
     "output_type": "execute_result"
    }
   ],
   "source": [
    "s1.shape"
   ]
  },
  {
   "cell_type": "code",
   "execution_count": 34,
   "id": "6cdd4e4d",
   "metadata": {},
   "outputs": [
    {
     "data": {
      "text/plain": [
       "1"
      ]
     },
     "execution_count": 34,
     "metadata": {},
     "output_type": "execute_result"
    }
   ],
   "source": [
    "s1.ndim"
   ]
  },
  {
   "cell_type": "code",
   "execution_count": 35,
   "id": "91ca82d8",
   "metadata": {},
   "outputs": [
    {
     "data": {
      "text/plain": [
       "714"
      ]
     },
     "execution_count": 35,
     "metadata": {},
     "output_type": "execute_result"
    }
   ],
   "source": [
    "s1.size"
   ]
  },
  {
   "cell_type": "code",
   "execution_count": 36,
   "id": "582e10ae",
   "metadata": {},
   "outputs": [
    {
     "data": {
      "text/plain": [
       "False"
      ]
     },
     "execution_count": 36,
     "metadata": {},
     "output_type": "execute_result"
    }
   ],
   "source": [
    "s1.is_unique"
   ]
  },
  {
   "cell_type": "code",
   "execution_count": null,
   "id": "62a6fd61",
   "metadata": {},
   "outputs": [
    {
     "data": {
      "text/plain": [
       "True"
      ]
     },
     "execution_count": 37,
     "metadata": {},
     "output_type": "execute_result"
    }
   ],
   "source": [
    "s1.hasnans  # return True if the series contains any NAN (missing) values, otherwise."
   ]
  }
 ],
 "metadata": {
  "kernelspec": {
   "display_name": "venv (3.13.5)",
   "language": "python",
   "name": "python3"
  },
  "language_info": {
   "codemirror_mode": {
    "name": "ipython",
    "version": 3
   },
   "file_extension": ".py",
   "mimetype": "text/x-python",
   "name": "python",
   "nbconvert_exporter": "python",
   "pygments_lexer": "ipython3",
   "version": "3.13.5"
  }
 },
 "nbformat": 4,
 "nbformat_minor": 5
}
